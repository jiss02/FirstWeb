{
 "cells": [
  {
   "cell_type": "markdown",
   "metadata": {},
   "source": [
    "# BOAZ 12기 1주차 과제 파이썬 기초 문법"
   ]
  },
  {
   "cell_type": "markdown",
   "metadata": {},
   "source": [
    "- 원하는 함수가 기억이 안나면 [이곳](https://wikidocs.net/book/1)을 참고해주세요\n",
    "- 자주 사용하는 함수는 기억하는 것이 좋지만 대부분 기억이 나지 않습니다\n",
    "- 원하는 기능이 있는 함수를 구글링 하는 능력이 중요합니다\n",
    "- 영어로 어떻게 검색해야 하는지 학습하는 것이 가장 좋습니다"
   ]
  },
  {
   "cell_type": "markdown",
   "metadata": {},
   "source": [
    "#### 1. 자료형 문제\n",
    "#### 1-1. Slice 기능을 이용해 'you need python'(모두 소문자로) 을 출력하세요. "
   ]
  },
  {
   "cell_type": "code",
   "execution_count": 30,
   "metadata": {},
   "outputs": [],
   "source": [
    "a = \"Life is too short, You need Python\""
   ]
  },
  {
   "cell_type": "code",
   "execution_count": 31,
   "metadata": {},
   "outputs": [
    {
     "data": {
      "text/plain": [
       "'you need python'"
      ]
     },
     "execution_count": 31,
     "metadata": {},
     "output_type": "execute_result"
    }
   ],
   "source": [
    "a = a[-15:]\n",
    "a.lower()"
   ]
  },
  {
   "cell_type": "markdown",
   "metadata": {},
   "source": [
    "#### 1-2. 숫자와 나누는 수를 입력하면 나머지를 반환하는 함수 remainder를 작성하세요"
   ]
  },
  {
   "cell_type": "code",
   "execution_count": 32,
   "metadata": {},
   "outputs": [],
   "source": [
    "def reminder(n, m):\n",
    "    return n%m"
   ]
  },
  {
   "cell_type": "code",
   "execution_count": 33,
   "metadata": {},
   "outputs": [
    {
     "data": {
      "text/plain": [
       "2"
      ]
     },
     "execution_count": 33,
     "metadata": {},
     "output_type": "execute_result"
    }
   ],
   "source": [
    "reminder(5,3)"
   ]
  },
  {
   "cell_type": "markdown",
   "metadata": {},
   "source": [
    "#### 1-2. 입력한 수의 평균을 반환하는 함수 mean을 작성하세요 (*args를 이용해보세요 !)"
   ]
  },
  {
   "cell_type": "code",
   "execution_count": 35,
   "metadata": {},
   "outputs": [],
   "source": [
    "def mean(*args):\n",
    "    return sum(args) / len(args)\n",
    "    "
   ]
  },
  {
   "cell_type": "code",
   "execution_count": 36,
   "metadata": {
    "scrolled": true
   },
   "outputs": [
    {
     "name": "stdout",
     "output_type": "stream",
     "text": [
      "2.0\n",
      "4.5\n"
     ]
    }
   ],
   "source": [
    "print(mean(1,2,3),mean(1,2,3,4,5,6,7,8), sep = \"\\n\")"
   ]
  },
  {
   "cell_type": "markdown",
   "metadata": {},
   "source": [
    "#### 1-3. for와 range를 사용해서 0부터 9까지 중 홀수인 1, 3, 5, 7, 9만 odd_nums에 저장하고 출력하는 코드를 짜보세요. "
   ]
  },
  {
   "cell_type": "code",
   "execution_count": 39,
   "metadata": {},
   "outputs": [
    {
     "data": {
      "text/plain": [
       "[1, 3, 5, 7, 9]"
      ]
     },
     "execution_count": 39,
     "metadata": {},
     "output_type": "execute_result"
    }
   ],
   "source": [
    "odd_nums = []\n",
    "\n",
    "for i in range(0,10):\n",
    "    if i % 2 != 0:\n",
    "        odd_nums.append(i)\n",
    "        \n",
    "odd_nums\n",
    "        "
   ]
  },
  {
   "cell_type": "markdown",
   "metadata": {},
   "source": [
    "#### 1-4. 다음 리스트에서 생일만 리스트에 담는 함수 birth를 작성하세요"
   ]
  },
  {
   "cell_type": "code",
   "execution_count": 45,
   "metadata": {},
   "outputs": [
    {
     "name": "stdout",
     "output_type": "stream",
     "text": [
      "[' 930115-1234567', '990101- 2257262', '000327 - 1010209', '010101-2047219 ', '9706091360217']\n"
     ]
    }
   ],
   "source": [
    "pin1 = \" 930115-1234567\"\n",
    "pin2 = \"990101- 2257262\"\n",
    "pin3 = \"000327 - 1010209\"\n",
    "pin4 = \"010101-2047219 \"\n",
    "pin5 = \"9706091360217\"\n",
    "pin = [pin1, pin2, pin3, pin4, pin5]\n",
    "print(pin)"
   ]
  },
  {
   "cell_type": "code",
   "execution_count": 53,
   "metadata": {},
   "outputs": [],
   "source": [
    "def birth(id_list):\n",
    "    b_list = []\n",
    "    for i in id_list:\n",
    "        i = i.replace(\" \",\"\")\n",
    "        i = i.replace(\"-\",\"\")\n",
    "        b_list.append(i[2:6])\n",
    "    return b_list          "
   ]
  },
  {
   "cell_type": "code",
   "execution_count": 54,
   "metadata": {
    "scrolled": true
   },
   "outputs": [
    {
     "data": {
      "text/plain": [
       "['0115', '0101', '0327', '0101', '0609']"
      ]
     },
     "execution_count": 54,
     "metadata": {},
     "output_type": "execute_result"
    }
   ],
   "source": [
    "birth(pin)"
   ]
  },
  {
   "cell_type": "markdown",
   "metadata": {},
   "source": [
    "#### 2. 함수 문제\n",
    "#### 2-1.  if/ elif/ else문을 사용해서 2019년이 윤년인지 계산하는 코드를 짜보세요. \n",
    "- 윤년 계산법\n",
    "    - 연도가 400으로 나누어 떨어지면 윤년입니다. \n",
    "    - 연도가 4로 나누어 떨어지면서 100으로 나누어 떨어지지 않으면 윤년입니다. "
   ]
  },
  {
   "cell_type": "code",
   "execution_count": 60,
   "metadata": {},
   "outputs": [
    {
     "name": "stdout",
     "output_type": "stream",
     "text": [
      "2019년은 윤년이 아닙니다.\n"
     ]
    }
   ],
   "source": [
    "year = 2019\n",
    "\n",
    "if year % 400 == 0:\n",
    "    print('{}년은 윤년입니다.'.format(year))\n",
    "elif year % 4 == 0 & year % 100 != 0:\n",
    "    print('{}년은 윤년입니다.'.format(year))\n",
    "else:\n",
    "    print('{}년은 윤년이 아닙니다.'.format(year))"
   ]
  },
  {
   "cell_type": "markdown",
   "metadata": {},
   "source": [
    "#### 2-2. 더하기, 빼기, 곱하기, 나누기 기능이 있는 클래스 Calculator를 작성하세요"
   ]
  },
  {
   "cell_type": "code",
   "execution_count": 67,
   "metadata": {},
   "outputs": [],
   "source": [
    "class Calculator:\n",
    "    def __init__(self,a,b):\n",
    "        self.num1 = a\n",
    "        self.num2 = b\n",
    "    def add(self):\n",
    "        return self.num1 + self.num2\n",
    "    def subtract(self):\n",
    "        return self.num1 - self.num2\n",
    "    def multiply(self):\n",
    "        return self.num1 * self.num2\n",
    "    def divide(self):\n",
    "        return round(self.num1 / self.num2,2)"
   ]
  },
  {
   "cell_type": "code",
   "execution_count": 68,
   "metadata": {},
   "outputs": [
    {
     "name": "stdout",
     "output_type": "stream",
     "text": [
      "20\n",
      "6\n",
      "91\n",
      "1.86\n"
     ]
    }
   ],
   "source": [
    "Cal = Calculator(13,7)\n",
    "print(Cal.add(),Cal.subtract(),Cal.multiply(),Cal.divide(), sep = \"\\n\")"
   ]
  },
  {
   "cell_type": "markdown",
   "metadata": {},
   "source": [
    "#### 2-3. 가위바위보 게임 만들기\n",
    "다음 요구사항에 맞는 가위바위보 게임을 만들어보세요. "
   ]
  },
  {
   "cell_type": "code",
   "execution_count": 99,
   "metadata": {},
   "outputs": [
    {
     "name": "stdout",
     "output_type": "stream",
     "text": [
      "\"가위\", \"바위\",\"보\" 중 하나를 입력해주세요!\n",
      "(\"끝\"을 입력하면 종료합니다)\n",
      "\n"
     ]
    },
    {
     "name": "stdin",
     "output_type": "stream",
     "text": [
      "입력: 끝\n"
     ]
    },
    {
     "name": "stdout",
     "output_type": "stream",
     "text": [
      "\n",
      "종료합니다.\n"
     ]
    }
   ],
   "source": [
    "# 사용자에게 '가위', '바위', '보'를 입력받으세요. \n",
    "import random \n",
    "\n",
    "play = True\n",
    "\n",
    "while play:\n",
    "    \n",
    "    com = [\"가위\", \"바위\", \"보\"]\n",
    "    result = [\"draw.\",\"win!\", \"lose..\"]\n",
    "    \n",
    "    print(\"\\\"가위\\\", \\\"바위\\\",\\\"보\\\" 중 하나를 입력해주세요!\\n(\\\"끝\\\"을 입력하면 종료합니다)\\n\")\n",
    "    person = input(\"입력:\")\n",
    "    \n",
    "    if person == \"끝\":\n",
    "        print(\"\\n종료합니다.\")\n",
    "        break\n",
    "        \n",
    "    elif not person in com:\n",
    "        print(\"\\n가위, 바위, 보 중에 선택하세요.\\n\")\n",
    "        continue\n",
    "    \n",
    "    random_num = random.randrange(0,2)\n",
    "    \n",
    "    # 플레이어가 이긴경우 = (가위:보, 바위:가위, 보:바위)\n",
    "    \n",
    "    player_win = {\"가위\":\"보\",\"바위\":\"가위\",\"보\":\"바위\"}\n",
    "    \n",
    "    if person == com[random_num]:\n",
    "        resultIndex = 0\n",
    "    elif player_win[person] == com[random_num]:\n",
    "        resultIndex = 1\n",
    "    else:\n",
    "        resultIndex = 2\n",
    "        \n",
    "    \n",
    "    print(\"\\n\\nyou: {}\".format(person))\n",
    "    print(\"computer: {}\\n\".format(com[random_num]))\n",
    "    print(result[resultIndex], \"\\n\")\n",
    "    \n",
    "    \n",
    "\n",
    "\n",
    "\n",
    "# 리스트에 가위, 바위, 보를 저장합니다. \n",
    "\n",
    "# 게임을 무한 반복합니다. \n",
    "# 사용자에게는 입력을 받고, \n",
    "# 컴퓨터는 랜덤하게 선택합니다. \n",
    "\n",
    "# 만약 사용자가 '끝'을 입력하면,\n",
    "# 반복을 종료합니다. \n",
    "\n",
    "# 둘의 선택을 print 해봅니다. \n",
    "\n",
    "# 만약 둘이 같은 것을 내면 \n",
    "# '비겼어요!'를 출력합니다. \n",
    "# 아니라면 사용자가 가위인지 판단합니다. \n",
    "# 사용자가 가위이면서 컴퓨터가 바위이면 \n",
    "# '졌어요!'를 출력하고 \n",
    "# 그렇지 않으면 \n",
    "# '이겼어요!'를 출력합니다. \n",
    "\n",
    "# 같은 원리로 사용자가 바위일 때와\n",
    "\n",
    "# 보일 때를 짜보세요. "
   ]
  },
  {
   "cell_type": "markdown",
   "metadata": {},
   "source": [
    "# Numpy 연습문제"
   ]
  },
  {
   "cell_type": "markdown",
   "metadata": {},
   "source": [
    "#### 1. Matrix 연산\n",
    "#### 1-1. 다음과 같은 matrix a, b를 생성하고 서로 곱해보세요"
   ]
  },
  {
   "cell_type": "code",
   "execution_count": 109,
   "metadata": {},
   "outputs": [
    {
     "data": {
      "text/plain": [
       "array([[ 42,  52,  62],\n",
       "       [106, 132, 158],\n",
       "       [170, 212, 254]])"
      ]
     },
     "execution_count": 109,
     "metadata": {},
     "output_type": "execute_result"
    }
   ],
   "source": [
    "import numpy as np\n",
    "\n",
    "a = np.arange(1,13).reshape(3,4)\n",
    "a\n",
    "b = np.array([[1,2,3],[5,6,7],[9,10,11],[1,2,3]])\n",
    "b\n",
    "\n",
    "np.dot(a,b)"
   ]
  },
  {
   "cell_type": "code",
   "execution_count": 106,
   "metadata": {},
   "outputs": [
    {
     "name": "stdout",
     "output_type": "stream",
     "text": [
      "[[ 1  2  3  4]\n",
      " [ 5  6  7  8]\n",
      " [ 9 10 11 12]]\n",
      "[[ 1  2  3]\n",
      " [ 5  6  7]\n",
      " [ 9 10 11]\n",
      " [ 1  2  3]]\n"
     ]
    }
   ],
   "source": [
    "print(a,b, sep =\"\\n\")"
   ]
  },
  {
   "cell_type": "markdown",
   "metadata": {},
   "source": [
    "#### 1-2. 다음 두 벡터의 내적과 외적 값을 구하세요"
   ]
  },
  {
   "cell_type": "code",
   "execution_count": 121,
   "metadata": {},
   "outputs": [],
   "source": [
    "import numpy as np\n",
    "a = np.array([1,2,3,4,5])\n",
    "b = np.array([6,7,8,9,10])"
   ]
  },
  {
   "cell_type": "code",
   "execution_count": 124,
   "metadata": {},
   "outputs": [
    {
     "name": "stdout",
     "output_type": "stream",
     "text": [
      "내적\n",
      " 130\n",
      "외적\n",
      " [[ 6 12 18 24 30]\n",
      " [ 7 14 21 28 35]\n",
      " [ 8 16 24 32 40]\n",
      " [ 9 18 27 36 45]\n",
      " [10 20 30 40 50]]\n"
     ]
    }
   ],
   "source": [
    "# Your Code Here\n",
    "print(\"내적\\n\" , sum(a*b))\n",
    "print(\"외적\\n\", np.reshape(b,(5,1)) * a)\n"
   ]
  },
  {
   "cell_type": "markdown",
   "metadata": {},
   "source": [
    "# Pandas"
   ]
  },
  {
   "cell_type": "markdown",
   "metadata": {},
   "source": [
    "#### 1. dataframe 다루기\n",
    "#### 1-1. 다음과 같은 dataframe을 생성하세요"
   ]
  },
  {
   "cell_type": "code",
   "execution_count": 1,
   "metadata": {},
   "outputs": [],
   "source": [
    "import pandas as pd"
   ]
  },
  {
   "cell_type": "code",
   "execution_count": 5,
   "metadata": {},
   "outputs": [],
   "source": [
    "\n",
    "data = {\"조\": [\"A\",\"A\",\"A\",\"A\",\"A\",\"A\",\"B\",\"B\",\"B\",\"B\",\"B\",\"B\",\"C\",\"C\",\"C\",\"C\",\"C\",\"D\",\"D\",\"D\",\"D\",\"D\",\"E\",\"E\",\"E\",\"E\",\"E\"],\n",
    "        \"이름\": [\"전승우\",\"유응규\",\"박재언\",\"신광욱\",\"박현정\",\"문현주\",\"성민석\",\"이형남\",\"전은정\",\"김아영\",\"남궁찬\",\"고동희\",\"박서호\",\"지현이\",\"윤훈상\",\"양광민\",\"송원호\",\"양태일\",\"하진용\",\"정해원\",\"유승룡\",\"전용진\",\"신하은\",\"조문기\",\"장현정\",\"최준명\",\"이동건\"],\n",
    "        \"성별\": [1,1,1,1,2,2,1,1,2,2,1,1,1,2,1,1,1,1,1,2,1,1,2,1,2,1,1]}\n",
    "\n",
    "\n",
    "twelve = pd.DataFrame(data)"
   ]
  },
  {
   "cell_type": "code",
   "execution_count": 4,
   "metadata": {},
   "outputs": [
    {
     "data": {
      "text/html": [
       "<div>\n",
       "<style scoped>\n",
       "    .dataframe tbody tr th:only-of-type {\n",
       "        vertical-align: middle;\n",
       "    }\n",
       "\n",
       "    .dataframe tbody tr th {\n",
       "        vertical-align: top;\n",
       "    }\n",
       "\n",
       "    .dataframe thead th {\n",
       "        text-align: right;\n",
       "    }\n",
       "</style>\n",
       "<table border=\"1\" class=\"dataframe\">\n",
       "  <thead>\n",
       "    <tr style=\"text-align: right;\">\n",
       "      <th></th>\n",
       "      <th>조</th>\n",
       "      <th>이름</th>\n",
       "      <th>성별</th>\n",
       "    </tr>\n",
       "  </thead>\n",
       "  <tbody>\n",
       "    <tr>\n",
       "      <th>0</th>\n",
       "      <td>A</td>\n",
       "      <td>전승우</td>\n",
       "      <td>1</td>\n",
       "    </tr>\n",
       "    <tr>\n",
       "      <th>1</th>\n",
       "      <td>A</td>\n",
       "      <td>유응규</td>\n",
       "      <td>1</td>\n",
       "    </tr>\n",
       "    <tr>\n",
       "      <th>2</th>\n",
       "      <td>A</td>\n",
       "      <td>박재언</td>\n",
       "      <td>1</td>\n",
       "    </tr>\n",
       "    <tr>\n",
       "      <th>3</th>\n",
       "      <td>A</td>\n",
       "      <td>신광욱</td>\n",
       "      <td>1</td>\n",
       "    </tr>\n",
       "    <tr>\n",
       "      <th>4</th>\n",
       "      <td>A</td>\n",
       "      <td>박현정</td>\n",
       "      <td>2</td>\n",
       "    </tr>\n",
       "    <tr>\n",
       "      <th>5</th>\n",
       "      <td>A</td>\n",
       "      <td>문현주</td>\n",
       "      <td>2</td>\n",
       "    </tr>\n",
       "    <tr>\n",
       "      <th>6</th>\n",
       "      <td>B</td>\n",
       "      <td>성민석</td>\n",
       "      <td>1</td>\n",
       "    </tr>\n",
       "    <tr>\n",
       "      <th>7</th>\n",
       "      <td>B</td>\n",
       "      <td>이형남</td>\n",
       "      <td>1</td>\n",
       "    </tr>\n",
       "    <tr>\n",
       "      <th>8</th>\n",
       "      <td>B</td>\n",
       "      <td>전은정</td>\n",
       "      <td>2</td>\n",
       "    </tr>\n",
       "    <tr>\n",
       "      <th>9</th>\n",
       "      <td>B</td>\n",
       "      <td>김아영</td>\n",
       "      <td>2</td>\n",
       "    </tr>\n",
       "    <tr>\n",
       "      <th>10</th>\n",
       "      <td>B</td>\n",
       "      <td>남궁찬</td>\n",
       "      <td>1</td>\n",
       "    </tr>\n",
       "    <tr>\n",
       "      <th>11</th>\n",
       "      <td>B</td>\n",
       "      <td>고동희</td>\n",
       "      <td>1</td>\n",
       "    </tr>\n",
       "    <tr>\n",
       "      <th>12</th>\n",
       "      <td>C</td>\n",
       "      <td>박서호</td>\n",
       "      <td>1</td>\n",
       "    </tr>\n",
       "    <tr>\n",
       "      <th>13</th>\n",
       "      <td>C</td>\n",
       "      <td>지현이</td>\n",
       "      <td>2</td>\n",
       "    </tr>\n",
       "    <tr>\n",
       "      <th>14</th>\n",
       "      <td>C</td>\n",
       "      <td>윤훈상</td>\n",
       "      <td>1</td>\n",
       "    </tr>\n",
       "    <tr>\n",
       "      <th>15</th>\n",
       "      <td>C</td>\n",
       "      <td>양광민</td>\n",
       "      <td>1</td>\n",
       "    </tr>\n",
       "    <tr>\n",
       "      <th>16</th>\n",
       "      <td>C</td>\n",
       "      <td>송원호</td>\n",
       "      <td>1</td>\n",
       "    </tr>\n",
       "    <tr>\n",
       "      <th>17</th>\n",
       "      <td>D</td>\n",
       "      <td>양태일</td>\n",
       "      <td>1</td>\n",
       "    </tr>\n",
       "    <tr>\n",
       "      <th>18</th>\n",
       "      <td>D</td>\n",
       "      <td>하진용</td>\n",
       "      <td>1</td>\n",
       "    </tr>\n",
       "    <tr>\n",
       "      <th>19</th>\n",
       "      <td>D</td>\n",
       "      <td>정해원</td>\n",
       "      <td>2</td>\n",
       "    </tr>\n",
       "    <tr>\n",
       "      <th>20</th>\n",
       "      <td>D</td>\n",
       "      <td>유승룡</td>\n",
       "      <td>1</td>\n",
       "    </tr>\n",
       "    <tr>\n",
       "      <th>21</th>\n",
       "      <td>D</td>\n",
       "      <td>전용진</td>\n",
       "      <td>1</td>\n",
       "    </tr>\n",
       "    <tr>\n",
       "      <th>22</th>\n",
       "      <td>E</td>\n",
       "      <td>신하은</td>\n",
       "      <td>2</td>\n",
       "    </tr>\n",
       "    <tr>\n",
       "      <th>23</th>\n",
       "      <td>E</td>\n",
       "      <td>조문기</td>\n",
       "      <td>1</td>\n",
       "    </tr>\n",
       "    <tr>\n",
       "      <th>24</th>\n",
       "      <td>E</td>\n",
       "      <td>장현정</td>\n",
       "      <td>2</td>\n",
       "    </tr>\n",
       "    <tr>\n",
       "      <th>25</th>\n",
       "      <td>E</td>\n",
       "      <td>최준명</td>\n",
       "      <td>1</td>\n",
       "    </tr>\n",
       "    <tr>\n",
       "      <th>26</th>\n",
       "      <td>E</td>\n",
       "      <td>이동건</td>\n",
       "      <td>1</td>\n",
       "    </tr>\n",
       "  </tbody>\n",
       "</table>\n",
       "</div>"
      ],
      "text/plain": [
       "    조   이름  성별\n",
       "0   A  전승우   1\n",
       "1   A  유응규   1\n",
       "2   A  박재언   1\n",
       "3   A  신광욱   1\n",
       "4   A  박현정   2\n",
       "5   A  문현주   2\n",
       "6   B  성민석   1\n",
       "7   B  이형남   1\n",
       "8   B  전은정   2\n",
       "9   B  김아영   2\n",
       "10  B  남궁찬   1\n",
       "11  B  고동희   1\n",
       "12  C  박서호   1\n",
       "13  C  지현이   2\n",
       "14  C  윤훈상   1\n",
       "15  C  양광민   1\n",
       "16  C  송원호   1\n",
       "17  D  양태일   1\n",
       "18  D  하진용   1\n",
       "19  D  정해원   2\n",
       "20  D  유승룡   1\n",
       "21  D  전용진   1\n",
       "22  E  신하은   2\n",
       "23  E  조문기   1\n",
       "24  E  장현정   2\n",
       "25  E  최준명   1\n",
       "26  E  이동건   1"
      ]
     },
     "execution_count": 4,
     "metadata": {},
     "output_type": "execute_result"
    }
   ],
   "source": [
    "twelve"
   ]
  },
  {
   "cell_type": "markdown",
   "metadata": {},
   "source": [
    "#### 1-2. A조 남자와 E조 여자를 출력하세요"
   ]
  },
  {
   "cell_type": "code",
   "execution_count": 11,
   "metadata": {},
   "outputs": [
    {
     "data": {
      "text/html": [
       "<div>\n",
       "<style scoped>\n",
       "    .dataframe tbody tr th:only-of-type {\n",
       "        vertical-align: middle;\n",
       "    }\n",
       "\n",
       "    .dataframe tbody tr th {\n",
       "        vertical-align: top;\n",
       "    }\n",
       "\n",
       "    .dataframe thead th {\n",
       "        text-align: right;\n",
       "    }\n",
       "</style>\n",
       "<table border=\"1\" class=\"dataframe\">\n",
       "  <thead>\n",
       "    <tr style=\"text-align: right;\">\n",
       "      <th></th>\n",
       "      <th>조</th>\n",
       "      <th>이름</th>\n",
       "      <th>성별</th>\n",
       "    </tr>\n",
       "  </thead>\n",
       "  <tbody>\n",
       "    <tr>\n",
       "      <th>0</th>\n",
       "      <td>A</td>\n",
       "      <td>전승우</td>\n",
       "      <td>1</td>\n",
       "    </tr>\n",
       "    <tr>\n",
       "      <th>1</th>\n",
       "      <td>A</td>\n",
       "      <td>유응규</td>\n",
       "      <td>1</td>\n",
       "    </tr>\n",
       "    <tr>\n",
       "      <th>2</th>\n",
       "      <td>A</td>\n",
       "      <td>박재언</td>\n",
       "      <td>1</td>\n",
       "    </tr>\n",
       "    <tr>\n",
       "      <th>3</th>\n",
       "      <td>A</td>\n",
       "      <td>신광욱</td>\n",
       "      <td>1</td>\n",
       "    </tr>\n",
       "    <tr>\n",
       "      <th>22</th>\n",
       "      <td>E</td>\n",
       "      <td>신하은</td>\n",
       "      <td>2</td>\n",
       "    </tr>\n",
       "    <tr>\n",
       "      <th>24</th>\n",
       "      <td>E</td>\n",
       "      <td>장현정</td>\n",
       "      <td>2</td>\n",
       "    </tr>\n",
       "  </tbody>\n",
       "</table>\n",
       "</div>"
      ],
      "text/plain": [
       "    조   이름  성별\n",
       "0   A  전승우   1\n",
       "1   A  유응규   1\n",
       "2   A  박재언   1\n",
       "3   A  신광욱   1\n",
       "22  E  신하은   2\n",
       "24  E  장현정   2"
      ]
     },
     "execution_count": 11,
     "metadata": {},
     "output_type": "execute_result"
    }
   ],
   "source": [
    "twelve[((twelve['조']=='A')&(twelve[\"성별\"] == 1)|(twelve['조']=='E')&(twelve[\"성별\"] == 2))]"
   ]
  },
  {
   "cell_type": "markdown",
   "metadata": {},
   "source": [
    "#### 1-3. 이씨를 출력하세요 (List 내포 for문을 써서 한줄로 짜보세요 !)"
   ]
  },
  {
   "cell_type": "code",
   "execution_count": 12,
   "metadata": {},
   "outputs": [
    {
     "data": {
      "text/plain": [
       "pandas.core.series.Series"
      ]
     },
     "execution_count": 12,
     "metadata": {},
     "output_type": "execute_result"
    }
   ],
   "source": [
    "type(twelve['이름'])"
   ]
  },
  {
   "cell_type": "code",
   "execution_count": 13,
   "metadata": {},
   "outputs": [],
   "source": [
    "result = [ name for name in list(twelve['이름']) if name[0] == '이' ]"
   ]
  },
  {
   "cell_type": "code",
   "execution_count": 14,
   "metadata": {},
   "outputs": [
    {
     "data": {
      "text/plain": [
       "['이형남', '이동건']"
      ]
     },
     "execution_count": 14,
     "metadata": {},
     "output_type": "execute_result"
    }
   ],
   "source": [
    "result"
   ]
  },
  {
   "cell_type": "code",
   "execution_count": null,
   "metadata": {},
   "outputs": [],
   "source": []
  }
 ],
 "metadata": {
  "kernelspec": {
   "display_name": "Python 3",
   "language": "python",
   "name": "python3"
  },
  "language_info": {
   "codemirror_mode": {
    "name": "ipython",
    "version": 3
   },
   "file_extension": ".py",
   "mimetype": "text/x-python",
   "name": "python",
   "nbconvert_exporter": "python",
   "pygments_lexer": "ipython3",
   "version": "3.7.1"
  }
 },
 "nbformat": 4,
 "nbformat_minor": 2
}
