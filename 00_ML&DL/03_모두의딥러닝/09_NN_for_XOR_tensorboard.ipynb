{
 "cells": [
  {
   "cell_type": "markdown",
   "metadata": {},
   "source": [
    "# 텐서보드\n",
    "\n",
    "__5개의 스텝을 따르면 얻을 수 있다.__\n",
    "\n",
    "1. 어떤 값을 로깅할 것인지 정한다.\n",
    "    - ```python\n",
    "         tf.summary.histogram(\"b2\", b2)\n",
    "         tf.summary.scalar(\"accuracy\", accuracy)   \n",
    "     ```\n",
    "2. 로깅한 목록을 하나하나 쓰기 귀찮으니 merge를 통해 summary를 해준다.\n",
    "    - ```python\n",
    "         summary = tf.summary.merge_all()   \n",
    "     ```\n",
    "3. summary를 어디에 기록할 것 인지 파일의 위치를 정하고 sees.graph를 불러준다. \n",
    "    - ```python\n",
    "         writer = tf.summary.FileWriter('./logs')\n",
    "         writer.add_graph(sess.graph)   \n",
    "     ```\n",
    "4. sess.run 을 통해 실행하고 필요한 데이터는 feed_dict로 전달한다.\n",
    "\n",
    "    - 그 후, 3단계에서 만든 writer를 통해 파일을 추가한다. 몇번 step을 실행할 것인지도 적어주자.(sess실행시켜서 가져온 data, step)\n",
    "    \n",
    "    - ```python\n",
    "         _, summary, cost_val = sess.run(\n",
    "            [train, merged_summary, cost], feed_dict={X: x_data, Y: y_data}\n",
    "        )\n",
    "        writer.add_summary(summary, global_step=step)\n",
    "     ```\n",
    "     \n",
    "\n",
    "5. 터미널에서 명령어를 쳐주자\n",
    "\n",
    "    - tensorboard --logdir=./logs\n",
    "\n",
    "> 여러개 값을 가지면(벡터들) histogram, 하나의 값을 가지면 scalar"
   ]
  },
  {
   "cell_type": "markdown",
   "metadata": {},
   "source": [
    "여러개의 모델을 비교하거나 learning rate의 비교를 해보고 싶으면, logs 안에 하위 디렉터를 여러개 만들어 집어넣고 실행시킬 때 부모노드인 logs를 실행해 주면 된다. "
   ]
  },
  {
   "cell_type": "code",
   "execution_count": null,
   "metadata": {},
   "outputs": [],
   "source": []
  }
 ],
 "metadata": {
  "kernelspec": {
   "display_name": "Python 3",
   "language": "python",
   "name": "python3"
  },
  "language_info": {
   "codemirror_mode": {
    "name": "ipython",
    "version": 3
   },
   "file_extension": ".py",
   "mimetype": "text/x-python",
   "name": "python",
   "nbconvert_exporter": "python",
   "pygments_lexer": "ipython3",
   "version": "3.6.8"
  }
 },
 "nbformat": 4,
 "nbformat_minor": 2
}
