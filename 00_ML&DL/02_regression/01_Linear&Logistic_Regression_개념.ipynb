{
 "cells": [
  {
   "cell_type": "markdown",
   "metadata": {},
   "source": [
    "# 1. Linear Regression with OLS(Ordinary Least Square)\n",
    "#### y = ax + b의 간단한 선형회귀식을 만들어 오차제곱합을 최소화하는 a와 b를 찾아봅시다"
   ]
  },
  {
   "cell_type": "code",
   "execution_count": 75,
   "metadata": {},
   "outputs": [],
   "source": [
    "# 단순 선형 회귀를 위한 임의의 데이터셋을 생성합니다.\n",
    "seed = 1215\n",
    "from sklearn.datasets import make_regression\n",
    "X, y = make_regression(n_samples=1000, n_features=1, noise=3.0, random_state=seed)\n",
    "\n",
    "X_train = X[:800]\n",
    "X_test = X[800:]\n",
    "y_train = y[:800]\n",
    "y_test = y[800:]"
   ]
  },
  {
   "cell_type": "markdown",
   "metadata": {},
   "source": [
    "### 1-1. 다음과 같은 산점도(scatter plot)을 그려주세요"
   ]
  },
  {
   "cell_type": "code",
   "execution_count": 76,
   "metadata": {},
   "outputs": [
    {
     "data": {
      "image/png": "[encoded data removed]",
      "text/plain": [
       "<Figure size 432x288 with 1 Axes>"
      ]
     },
     "metadata": {
      "needs_background": "light"
     },
     "output_type": "display_data"
    }
   ],
   "source": [
    "import matplotlib.pyplot as plt\n",
    "\n",
    "# Your Code Here\n",
    "plt.scatter(X_train,y_train, c=\"r\")\n",
    "plt.scatter(X_test,y_test, c=\"b\")\n",
    "plt.legend([\"train\", \"test\"])\n",
    "plt.show()"
   ]
  },
  {
   "cell_type": "markdown",
   "metadata": {},
   "source": [
    "### 1-2. h(x) = x+1 일때, train set(X_train, y_train)의 오차 제곱합 평균(Mean Square Error)을 구하세요"
   ]
  },
  {
   "cell_type": "code",
   "execution_count": 77,
   "metadata": {},
   "outputs": [
    {
     "name": "stdout",
     "output_type": "stream",
     "text": [
      "[90.55459607]\n",
      "0:00:00.004984\n"
     ]
    }
   ],
   "source": [
    "from datetime import datetime\n",
    "\n",
    "def MSE(X_train, y_train):\n",
    "    error = 0\n",
    "# Your Code Here(for문을 이용해 짜보세요)\n",
    "    for i, j in zip(X_train, y_train):\n",
    "        error += (i + 1 - j) ** 2\n",
    "    return error/len(y_train)\n",
    "\n",
    "# seed가 같을 경우 MSE값은 같아야 합니다.\n",
    "start = datetime.now()\n",
    "print(MSE(X_train, y_train))\n",
    "print(datetime.now()-start)"
   ]
  },
  {
   "cell_type": "markdown",
   "metadata": {},
   "source": [
    "### 1.3 h(x) = 2x 일 때, train set(X_train, y_train)의 오차 제곱합 평균(Mean Square Error)을 구하세요"
   ]
  },
  {
   "cell_type": "code",
   "execution_count": 78,
   "metadata": {},
   "outputs": [
    {
     "name": "stdout",
     "output_type": "stream",
     "text": [
      "35.905558387581024\n",
      "0:00:00.001000\n"
     ]
    }
   ],
   "source": [
    "import numpy as np\n",
    "from datetime import datetime\n",
    "\n",
    "y_train = y_train.reshape(800,1)\n",
    "\n",
    "# Your Code Here(np.dot과 .T(transpose)를 이용해 짜보세요 MSE with vectorize)\n",
    "def h(theta,X):\n",
    "    return np.dot(X,theta)\n",
    "\n",
    "def MSE(mytheta,X,y):\n",
    "    # len(X)로 나눠도 되고 2*len(X)으로 나눠도 됩니다 엄격하게는 len(X)가 맞고 optimize 측면에서는 의미가 동일합니다\n",
    "    return float((1./(len(X))) * np.dot((h(mytheta,X)-y).T,(h(mytheta,X)-y)))\n",
    "\n",
    "# seed가 같을 경우 MSE값은 같아야 합니다.\n",
    "start = datetime.now()\n",
    "print(MSE(2,X_train,y_train))\n",
    "print(datetime.now()-start)"
   ]
  },
  {
   "cell_type": "markdown",
   "metadata": {},
   "source": [
    "### 1-4. sklearn.linear_model의 Linear Regression을 이용해 최적의 a,b를 찾으세요"
   ]
  },
  {
   "cell_type": "code",
   "execution_count": 79,
   "metadata": {
    "scrolled": true
   },
   "outputs": [
    {
     "name": "stdout",
     "output_type": "stream",
     "text": [
      "y = 9.8012X + -0.1666\n",
      "Mean Squared Error : 9.352834376815956\n",
      "R^2 : 0.8995829250965823\n"
     ]
    },
    {
     "data": {
      "image/png": "[encoded data removed]",
      "text/plain": [
       "<Figure size 432x288 with 1 Axes>"
      ]
     },
     "metadata": {
      "needs_background": "light"
     },
     "output_type": "display_data"
    }
   ],
   "source": [
    "from sklearn.linear_model import LinearRegression\n",
    "from sklearn.metrics import mean_squared_error, r2_score\n",
    "\n",
    "# Your Code Here(sklearn에서 LinearRegression 함수를 불러오고 X_train과 y_train에 적합시켜보세요)\n",
    "\n",
    "model = LinearRegression()\n",
    "model.fit(X_train, y_train)\n",
    "\n",
    "# optimal a,b based on OLS\n",
    "print(\"y = %.4fX + %.4f\"%(float(model.coef_[0]),float(model.intercept_)))\n",
    "\n",
    "# Your Code Here(X_test에 대해서 predict를 해보고 mse를 구해보세요)\n",
    "y_pred = model.predict(X_test)\n",
    "mse = mean_squared_error(y_test, y_pred)\n",
    "\n",
    "# r2_score\n",
    "r_square = r2_score(y_test, y_pred)\n",
    "print(\"Mean Squared Error :\",mse)\n",
    "print(\"R^2 :\",r_square)\n",
    "\n",
    "# Your Code Here (test set을 scatter plot으로 나타내고, 본인이 구한 선형회귀식을 다음과 같은 직선으로 나타내보세요)\n",
    "plt.scatter(X_test, y_test, c=\"b\")\n",
    "plt.plot(X_test, y_pred, c=\"r\", linewidth=3)\n",
    "plt.legend([\"reg\",\"test\"])\n",
    "plt.show()"
   ]
  },
  {
   "cell_type": "markdown",
   "metadata": {},
   "source": [
    "# 2. Linear Regression with Gradient Descent"
   ]
  },
  {
   "cell_type": "markdown",
   "metadata": {},
   "source": [
    "![gradientdescent](https://cdncontribute.geeksforgeeks.org/wp-content/uploads/Cost-Function.jpg)"
   ]
  },
  {
   "cell_type": "markdown",
   "metadata": {},
   "source": [
    "### 2-1. h(x) = ax라는 식을 만들어 Gradient Descent를 이용해 mse를 최소화하는 a를 찾아보세요"
   ]
  },
  {
   "cell_type": "code",
   "execution_count": 106,
   "metadata": {},
   "outputs": [],
   "source": [
    "iterations = 10000\n",
    "learningrate = 0.01\n",
    "y_test = y_test.reshape(200,1)\n",
    "\n",
    "# 초기값(theta_start)은 자유입니다\n",
    "def Gradientdescent(X, y, theta_start):\n",
    "    theta = theta_start\n",
    "    \n",
    "    for meaningless in range(iterations):\n",
    "        # Your Code Here \n",
    "        # (newtheta = theta-(learningrate/number of training examples)X derivative Loss with respect to theta)\n",
    "        # Loss function을 theta에 대해 직접 미분해보세요(tip.Chain rule)\n",
    "        theta = theta - (learningrate/len(X)*2)*np.sum((h(theta,X)-y)*X)\n",
    "        \n",
    "    y_pred = theta*X_test\n",
    "    r_square = r2_score(y_test, y_pred)    \n",
    "    \n",
    "    return print('Optimal \"a\" is:', round(theta,3), '\\n', 'R^2 :', round(r_square,3))"
   ]
  },
  {
   "cell_type": "code",
   "execution_count": 107,
   "metadata": {},
   "outputs": [
    {
     "name": "stdout",
     "output_type": "stream",
     "text": [
      "Optimal \"a\" is: 9.803 \n",
      " R^2 : 0.899\n"
     ]
    }
   ],
   "source": [
    "Gradientdescent(X_train,y_train, 5)"
   ]
  },
  {
   "cell_type": "code",
   "execution_count": 108,
   "metadata": {},
   "outputs": [
    {
     "data": {
      "text/plain": [
       "4.713"
      ]
     },
     "execution_count": 108,
     "metadata": {},
     "output_type": "execute_result"
    }
   ],
   "source": [
    "m = y_test.size\n",
    "round(MSE(9.803, X_test, y_test),3)"
   ]
  },
  {
   "cell_type": "markdown",
   "metadata": {},
   "source": [
    "### 2-2. 이번에는 같은 함수에서 iteration 전에 Loss(MSE)를 계산해보고 다음과 같은 plot으로 나타내보세요"
   ]
  },
  {
   "cell_type": "code",
   "execution_count": 10,
   "metadata": {},
   "outputs": [
    {
     "data": {
      "text/plain": [
       "[<matplotlib.lines.Line2D at 0x28854ff74e0>]"
      ]
     },
     "execution_count": 10,
     "metadata": {},
     "output_type": "execute_result"
    },
    {
     "data": {
      "image/png": "[encoded data removed]",
      "text/plain": [
       "<Figure size 720x432 with 1 Axes>"
      ]
     },
     "metadata": {
      "needs_background": "light"
     },
     "output_type": "display_data"
    }
   ],
   "source": [
    "iterations = 10000\n",
    "learningrate = 0.01\n",
    "\n",
    "# 초기값(theta_start)은 자유입니다\n",
    "def Gradientdescent(X, y, theta_start):\n",
    "    theta = theta_start\n",
    "    Loss = []\n",
    "    for meaningless in range(iterations):\n",
    "        # Your Code Here\n",
    "        theta = theta - (learningrate/len(X))*np.sum((h(theta,X)-y)*X)\n",
    "        Loss.append(MSE(theta, X_test, y_test))\n",
    "    return Loss\n",
    "\n",
    "Loss = Gradientdescent(X_train,y_train, 0)\n",
    "\n",
    "plt.figure(figsize=(10,6))\n",
    "plt.grid(True)\n",
    "plt.title(\"Convergence of Cost Function\")\n",
    "plt.xlabel(\"Iteration number\")\n",
    "plt.ylabel(\"Loss\")\n",
    "plt.xlim([0,1000])\n",
    "plt.ylim([0,10])\n",
    "# Your Code Here\n",
    "plt.plot(range(len(Loss)),Loss,'bo')\n"
   ]
  },
  {
   "cell_type": "markdown",
   "metadata": {},
   "source": [
    "# 2. Logistic Regression"
   ]
  },
  {
   "cell_type": "code",
   "execution_count": 2,
   "metadata": {},
   "outputs": [],
   "source": [
    "import sklearn.datasets\n",
    "seed = 1215\n",
    "X, y = sklearn.datasets.make_classification(n_samples=1000, n_features=2, n_classes=2, n_informative = 2, n_redundant = 0, n_repeated = 0,random_state = seed)\n",
    "\n",
    "X_train = X[:800]\n",
    "X_train = X_train[:,0]\n",
    "X_test = X[800:]\n",
    "X_test = X_test[:,0]\n",
    "y_train = y[:800]\n",
    "y_test = y[800:]"
   ]
  },
  {
   "cell_type": "markdown",
   "metadata": {},
   "source": [
    "### 2-1. 다음과 같은 산점도를 그려주세요"
   ]
  },
  {
   "cell_type": "code",
   "execution_count": 3,
   "metadata": {},
   "outputs": [
    {
     "data": {
      "text/plain": [
       "<Figure size 640x480 with 1 Axes>"
      ]
     },
     "metadata": {},
     "output_type": "display_data"
    }
   ],
   "source": [
    "import matplotlib.pyplot as plt\n",
    "\n",
    "plt.legend([\"train\", \"test\"])\n",
    "# Your Code Here\n",
    "plt.scatter(X_train,y_train, c=\"r\")\n",
    "plt.scatter(X_test,y_test, c=\"b\")\n",
    "\n",
    "plt.show()"
   ]
  },
  {
   "cell_type": "markdown",
   "metadata": {},
   "source": [
    "### 2-2. 가중치가 1일 때 loss를 계산해보세요. h(x) = 1/1+e^-x 입니다\n",
    "![logisticregression](https://i.stack.imgur.com/XbU4S.png)"
   ]
  },
  {
   "cell_type": "code",
   "execution_count": 4,
   "metadata": {},
   "outputs": [],
   "source": [
    "def sigmoid(x, mytheta):\n",
    "    try:\n",
    "            output = 1 / (1 + np.exp(-mytheta*x))\n",
    "    except:\n",
    "            output = 0\n",
    "    return output"
   ]
  },
  {
   "cell_type": "code",
   "execution_count": 6,
   "metadata": {},
   "outputs": [
    {
     "name": "stdout",
     "output_type": "stream",
     "text": [
      "0.8309437805013792\n"
     ]
    }
   ],
   "source": [
    "import numpy as np\n",
    "def LogisticLoss(X, y, mytheta):\n",
    "    error0 = 0\n",
    "    error1 = 0\n",
    "# Your Code Here(for문을 이용해 짜보세요)\n",
    "# try, except를 이용해 sigmoid와 같이 log값을 10 또는 -10으로 설정해주세요\n",
    "    for i, j in zip(X, y):\n",
    "        if j == 0:\n",
    "                error0 -= np.log(1-sigmoid(i,mytheta)+0.000001)\n",
    "        elif j == 1:\n",
    "                error1 -= np.log(sigmoid(i,mytheta)+0.000001)\n",
    "    return (error0 + error1) / len(y)\n",
    "\n",
    "# seed가 같을 경우 LogisticLoss값은 같아야 합니다.\n",
    "print(LogisticLoss(X_train, y_train, 1))"
   ]
  },
  {
   "cell_type": "markdown",
   "metadata": {},
   "source": [
    "### 2-3. Gradient Descent 기반으로 주어진 loss를 최소화하는 weight를 찾아보세요."
   ]
  },
  {
   "cell_type": "code",
   "execution_count": 7,
   "metadata": {},
   "outputs": [],
   "source": [
    "import numpy as np\n",
    "\n",
    "iterations = 10000\n",
    "learningrate = 0.01\n",
    "\n",
    "# 초기값은 자유입니다\n",
    "def Gradientdescent(X, y, theta_start):\n",
    "    theta = theta_start\n",
    "    for meaningless in range(iterations):\n",
    "        # Your Code Here\n",
    "        # Cross Entropy Loss를 theta에 대해 미분하면 됩니다.\n",
    "        # https://www.youtube.com/watch?v=mLth3-4yn4Q 이곳의 동영상을 참고하세요\n",
    "        theta = theta - (learningrate/len(X))*np.sum((sigmoid(X,theta)-y)*X)\n",
    "        # Vectorize version\n",
    "        # theta = theta - (learningrate/len(X))*(-X.T.dot((y-sigmoid(X,theta))))\n",
    "    \n",
    "    LogisticLoss(X_test, y_test, theta)\n",
    "    return print('Optimal \"a\" is:', round(theta,3), '\\n','Logistic Loss :', round(LogisticLoss(X_test, y_test, theta),3))"
   ]
  },
  {
   "cell_type": "code",
   "execution_count": 8,
   "metadata": {},
   "outputs": [
    {
     "name": "stdout",
     "output_type": "stream",
     "text": [
      "Optimal \"a\" is: 49.106 \n",
      " Logistic Loss : 3.301\n"
     ]
    }
   ],
   "source": [
    "Gradientdescent(X_train,y_train,100)"
   ]
  },
  {
   "cell_type": "markdown",
   "metadata": {},
   "source": [
    "### 2-4. Loss의 변화를 plot으로 나타내보세요."
   ]
  },
  {
   "cell_type": "code",
   "execution_count": 165,
   "metadata": {},
   "outputs": [],
   "source": [
    "iterations = 10000\n",
    "learningrate = 0.1\n",
    "\n",
    "# 초기값은 자유입니다\n",
    "def Gradientdescent(X, y, theta_start):\n",
    "    theta = theta_start\n",
    "    loss = []\n",
    "    thetahistory = []\n",
    "    for meaningless in range(iterations):\n",
    "        #Your Code Here\n",
    "        theta = theta - (learningrate/len(X))*np.sum((sigmoid(X,theta)-y)*X)\n",
    "        # Vectorize version\n",
    "        # theta = theta - (learningrate/len(X))*(-X.T.dot((y-sigmoid(X,theta))))\n",
    "        temploss = LogisticLoss(X_test, y_test, theta)\n",
    "        thetahistory.append(np.array(theta))\n",
    "        loss.append(np.array(temploss))\n",
    "    return loss, thetahistory"
   ]
  },
  {
   "cell_type": "code",
   "execution_count": 171,
   "metadata": {},
   "outputs": [],
   "source": [
    "LLoss, thetaa= Gradientdescent(X_train, y_train, 5)"
   ]
  },
  {
   "cell_type": "code",
   "execution_count": 172,
   "metadata": {
    "scrolled": true
   },
   "outputs": [
    {
     "data": {
      "text/plain": [
       "[<matplotlib.lines.Line2D at 0x1994a69e390>]"
      ]
     },
     "execution_count": 172,
     "metadata": {},
     "output_type": "execute_result"
    },
    {
     "data": {
      "image/png": "[encoded data removed]",
      "text/plain": [
       "<Figure size 720x432 with 1 Axes>"
      ]
     },
     "metadata": {
      "needs_background": "light"
     },
     "output_type": "display_data"
    }
   ],
   "source": [
    "plt.figure(figsize=(10,6))\n",
    "plt.grid(True)\n",
    "plt.title(\"Convergence of Cost Function\")\n",
    "plt.xlabel(\"Iteration number\")\n",
    "plt.ylabel(\"Loss\")\n",
    "plt.xlim([0,1000])\n",
    "plt.ylim([0,3])\n",
    "#Your Code Here\n",
    "plt.plot(range(len(LLoss)),LLoss,'bo')"
   ]
  },
  {
   "cell_type": "markdown",
   "metadata": {},
   "source": [
    "# 고생하셨습니다 :)"
   ]
  }
 ],
 "metadata": {
  "kernelspec": {
   "display_name": "Python 3",
   "language": "python",
   "name": "python3"
  },
  "language_info": {
   "codemirror_mode": {
    "name": "ipython",
    "version": 3
   },
   "file_extension": ".py",
   "mimetype": "text/x-python",
   "name": "python",
   "nbconvert_exporter": "python",
   "pygments_lexer": "ipython3",
   "version": "3.7.0"
  },
  "latex_envs": {
   "LaTeX_envs_menu_present": true,
   "autoclose": false,
   "autocomplete": true,
   "bibliofile": "biblio.bib",
   "cite_by": "apalike",
   "current_citInitial": 1,
   "eqLabelWithNumbers": true,
   "eqNumInitial": 1,
   "hotkeys": {
    "equation": "Ctrl-E",
    "itemize": "Ctrl-I"
   },
   "labels_anchors": false,
   "latex_user_defs": false,
   "report_style_numbering": false,
   "user_envs_cfg": false
  },
  "toc": {
   "base_numbering": 1,
   "nav_menu": {},
   "number_sections": true,
   "sideBar": true,
   "skip_h1_title": false,
   "title_cell": "Table of Contents",
   "title_sidebar": "Contents",
   "toc_cell": false,
   "toc_position": {},
   "toc_section_display": true,
   "toc_window_display": false
  },
  "varInspector": {
   "cols": {
    "lenName": 16,
    "lenType": 16,
    "lenVar": 40
   },
   "kernels_config": {
    "python": {
     "delete_cmd_postfix": "",
     "delete_cmd_prefix": "del ",
     "library": "var_list.py",
     "varRefreshCmd": "print(var_dic_list())"
    },
    "r": {
     "delete_cmd_postfix": ") ",
     "delete_cmd_prefix": "rm(",
     "library": "var_list.r",
     "varRefreshCmd": "cat(var_dic_list()) "
    }
   },
   "types_to_exclude": [
    "module",
    "function",
    "builtin_function_or_method",
    "instance",
    "_Feature"
   ],
   "window_display": false
  }
 },
 "nbformat": 4,
 "nbformat_minor": 2
}
