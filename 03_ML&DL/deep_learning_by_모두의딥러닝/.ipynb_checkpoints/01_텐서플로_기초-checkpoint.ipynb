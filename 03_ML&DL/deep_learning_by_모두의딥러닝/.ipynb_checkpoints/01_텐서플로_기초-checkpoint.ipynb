{
 "cells": [
  {
   "cell_type": "markdown",
   "metadata": {},
   "source": [
    "# 1강\n",
    "\n",
    "__텐서플로우를 왜 사용하는가?__\n",
    "\n",
    "많은 사람들이 사용하며, 다양한 라이브러리들이 있다.\n",
    "\n",
    "__텐서플로는 무엇인가?__\n",
    "\n",
    "데이터 플로 그래프를 사용하여, numerical한 계산을 할 수 있다!\n",
    "\n",
    "## data flow graph?\n",
    "\n",
    "- 노드들이 하나의 오퍼레이션이다\n",
    "- 엣지는 데이터 배열(tensors)들의 관계를 표현한다.\n",
    "\n",
    "데이터(텐서)들이 연산을 거치는 것은 텐서들이 돌아다니는  것이므로 **tensorflow**라고 한다.\n",
    "\n",
    "노드들을 만들어서 이를 엣지로 연결하고, 그래프를 통하여 쉽게 파악이 가능하다."
   ]
  },
  {
   "cell_type": "code",
   "execution_count": 7,
   "metadata": {},
   "outputs": [
    {
     "data": {
      "text/plain": [
       "'1.13.1'"
      ]
     },
     "execution_count": 7,
     "metadata": {},
     "output_type": "execute_result"
    }
   ],
   "source": [
    "# 버전확인\n",
    "import tensorflow as tf\n",
    "\n",
    "tf.__version__"
   ]
  },
  {
   "cell_type": "code",
   "execution_count": 8,
   "metadata": {},
   "outputs": [
    {
     "name": "stdout",
     "output_type": "stream",
     "text": [
      "b'hello tensorflow!'\n"
     ]
    }
   ],
   "source": [
    "# 노드 하나를 만들었다.\n",
    "hello = tf.constant(\"hello tensorflow!\")\n",
    "\n",
    "# constant라는 노드를 만들고, session이라는 것을 만들고난 다음 session.run()을 하여 실행시킨다.\n",
    "sess = tf.Session()\n",
    "\n",
    "#'b'는 바이트 리터럴을 뜻한다.\n",
    "print(sess.run(hello))"
   ]
  },
  {
   "cell_type": "code",
   "execution_count": 9,
   "metadata": {},
   "outputs": [],
   "source": [
    "# 빌드하는 부분\n",
    "node1 = tf.constant(3.0, tf.float32)\n",
    "node2 = tf.constant(4.0)\n",
    "node3 = tf.add(node1, node2)"
   ]
  },
  {
   "cell_type": "code",
   "execution_count": 10,
   "metadata": {},
   "outputs": [
    {
     "name": "stdout",
     "output_type": "stream",
     "text": [
      "node1:  Tensor(\"Const_1:0\", shape=(), dtype=float32) node2:  Tensor(\"Const_2:0\", shape=(), dtype=float32)\n",
      "node3:  Tensor(\"Add_3:0\", shape=(), dtype=float32)\n"
     ]
    }
   ],
   "source": [
    "# 결과값이 나오는 것이 아니라 텐서라는 정보만 나온다.\n",
    "print(\"node1: \", node1, \"node2: \", node2)\n",
    "print(\"node3: \", node3)"
   ]
  },
  {
   "cell_type": "code",
   "execution_count": 11,
   "metadata": {},
   "outputs": [
    {
     "name": "stdout",
     "output_type": "stream",
     "text": [
      "sess.run(node1, node2):  [3.0, 4.0]\n",
      "sess.run(node3):  7.0\n"
     ]
    }
   ],
   "source": [
    "# 결과값을 나오게 하기위해선 session을 만들어서 run해야한다.\n",
    "sess = tf.Session()\n",
    "# 노드를 넣어준다.\n",
    "print(\"sess.run(node1, node2): \", sess.run([node1, node2]))\n",
    "print(\"sess.run(node3): \", sess.run(node3))"
   ]
  },
  {
   "cell_type": "markdown",
   "metadata": {},
   "source": [
    "## tensorflow의 작동원리\n",
    "\n",
    "기존의 프로그램과 다르게\n",
    "\n",
    "1. 그래프를 빌드하고\n",
    "2. 세션 런을 통해 그래프를 실행하고\n",
    "3. 결과로 그래프 속의 값들이 업데이트 되거나 리턴된다."
   ]
  },
  {
   "cell_type": "markdown",
   "metadata": {},
   "source": [
    "## placeholder\n",
    "\n",
    "만약 노드의 값을 변수처럼 주고 싶다면 어떡해야할까?\n",
    "\n",
    "placeholder라는 특별한 노드로 만들어주면된다. constant한 것이아니다.\n"
   ]
  },
  {
   "cell_type": "code",
   "execution_count": 12,
   "metadata": {},
   "outputs": [
    {
     "name": "stdout",
     "output_type": "stream",
     "text": [
      "7.5\n",
      "[3. 7.]\n"
     ]
    }
   ],
   "source": [
    "a = tf.placeholder(tf.float32)\n",
    "b = tf.placeholder(tf.float32)\n",
    "adder_node = a + b\n",
    "\n",
    "# 실행하고싶은데, 노드의 값을 모르겠어! 라고 할테니, feed_dict를 통해서 값을 주자.\n",
    "print(sess.run(adder_node, feed_dict={a: 3, b: 4.5}))\n",
    "# 배열로 넘겨주는 것도 가능하다.\n",
    "print(sess.run(adder_node, feed_dict={a:[1,3],b:[2,4]}))"
   ]
  },
  {
   "cell_type": "markdown",
   "metadata": {},
   "source": [
    "## Tensor\n",
    "\n",
    "데이터 배열들을 뜻한다.\n",
    "\n",
    "__rank__\n",
    "\n",
    "몇차원의 배열인가?\n",
    "\n",
    "> 스칼라 (0차원배열, 값만존재)-> 벡터(1차원배열) -> 매트릭스(2차원배열, 행렬) -> ... n-tensor\n",
    "\n",
    "__shape__\n",
    "\n",
    "각각의 엘리먼트에 몇개씩 들어있는가?\n",
    "\n",
    "만약 `t=[[1,2,3],[4,5,6],[7,8,9]]`이면,  엘리먼트 하나 안에 3개가 들어있는 것이다.\n",
    "\n",
    "__type__\n",
    "\n",
    "float.32와 int.32를 많이 사용한다."
   ]
  }
 ],
 "metadata": {
  "kernelspec": {
   "display_name": "Python 3",
   "language": "python",
   "name": "python3"
  },
  "language_info": {
   "codemirror_mode": {
    "name": "ipython",
    "version": 3
   },
   "file_extension": ".py",
   "mimetype": "text/x-python",
   "name": "python",
   "nbconvert_exporter": "python",
   "pygments_lexer": "ipython3",
   "version": "3.6.8"
  }
 },
 "nbformat": 4,
 "nbformat_minor": 2
}
