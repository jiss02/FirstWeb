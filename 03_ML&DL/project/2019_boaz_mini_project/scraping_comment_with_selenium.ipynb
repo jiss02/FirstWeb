{
 "cells": [
  {
   "cell_type": "code",
   "execution_count": 1,
   "metadata": {},
   "outputs": [],
   "source": [
    "# 1. module importing\n",
    "from selenium import webdriver\n",
    "from bs4 import BeautifulSoup\n",
    "import pandas as pd\n",
    "import time\n",
    "\n",
    "# 2. driver경로설정 및 url주소 설정\n",
    "driverpath = '/Users/hyeoni/selenium/chromedriver'\n",
    "dr = webdriver.Chrome('/Users/hyeoni/selenium/chromedriver')\n",
    "url = 'http://ytcomments.klostermann.ca/' \n",
    "dr.get(url)"
   ]
  },
  {
   "cell_type": "code",
   "execution_count": 4,
   "metadata": {},
   "outputs": [],
   "source": [
    "dr.find_element_by_xpath('//*[@id=\"yt-url\"]').send_keys('https://youtu.be/z__jxoczNWc')"
   ]
  },
  {
   "cell_type": "code",
   "execution_count": 6,
   "metadata": {},
   "outputs": [],
   "source": [
    "dr.find_element_by_xpath('//*[@id=\"scrape-btn\"]').click()"
   ]
  },
  {
   "cell_type": "code",
   "execution_count": 10,
   "metadata": {},
   "outputs": [],
   "source": [
    "for i in range(1,8):\n",
    "    if i != 5:\n",
    "        dr.find_element_by_xpath('//*[@id=\"options-row\"]/div[{}]/label/div/ins'.format(i)).click()"
   ]
  },
  {
   "cell_type": "code",
   "execution_count": null,
   "metadata": {},
   "outputs": [],
   "source": [
    "dr.find_element_by_xpath('//*[@id=\"save-dropdown\"]').click()"
   ]
  }
 ],
 "metadata": {
  "kernelspec": {
   "display_name": "Python 3",
   "language": "python",
   "name": "python3"
  },
  "language_info": {
   "codemirror_mode": {
    "name": "ipython",
    "version": 3
   },
   "file_extension": ".py",
   "mimetype": "text/x-python",
   "name": "python",
   "nbconvert_exporter": "python",
   "pygments_lexer": "ipython3",
   "version": "3.7.1"
  }
 },
 "nbformat": 4,
 "nbformat_minor": 2
}
