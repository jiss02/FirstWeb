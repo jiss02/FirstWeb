{
 "cells": [
  {
   "cell_type": "code",
   "execution_count": 1,
   "metadata": {},
   "outputs": [],
   "source": [
    "import tensorflow as tf\n",
    "import numpy as np\n",
    "import pandas as pd\n",
    "import seaborn as sns\n",
    "import matplotlib.pyplot as plt"
   ]
  },
  {
   "cell_type": "code",
   "execution_count": 2,
   "metadata": {},
   "outputs": [],
   "source": [
    "from matplotlib import font_manager, rc # rc == run configure(configuration file)\n",
    "font_name = font_manager.FontProperties(fname=\"c:/Windows/Fonts/malgun.ttf\").get_name()\n",
    "rc('font', family=font_name)"
   ]
  },
  {
   "cell_type": "code",
   "execution_count": 3,
   "metadata": {},
   "outputs": [
    {
     "data": {
      "text/html": [
       "<div>\n",
       "<style scoped>\n",
       "    .dataframe tbody tr th:only-of-type {\n",
       "        vertical-align: middle;\n",
       "    }\n",
       "\n",
       "    .dataframe tbody tr th {\n",
       "        vertical-align: top;\n",
       "    }\n",
       "\n",
       "    .dataframe thead th {\n",
       "        text-align: right;\n",
       "    }\n",
       "</style>\n",
       "<table border=\"1\" class=\"dataframe\">\n",
       "  <thead>\n",
       "    <tr style=\"text-align: right;\">\n",
       "      <th></th>\n",
       "      <th>class</th>\n",
       "      <th>cap-shape</th>\n",
       "      <th>cap-surface</th>\n",
       "      <th>cap-color</th>\n",
       "      <th>bruises</th>\n",
       "      <th>odor</th>\n",
       "      <th>gill-attachment</th>\n",
       "      <th>gill-spacing</th>\n",
       "      <th>gill-size</th>\n",
       "      <th>gill-color</th>\n",
       "      <th>...</th>\n",
       "      <th>stalk-surface-below-ring</th>\n",
       "      <th>stalk-color-above-ring</th>\n",
       "      <th>stalk-color-below-ring</th>\n",
       "      <th>veil-type</th>\n",
       "      <th>veil-color</th>\n",
       "      <th>ring-number</th>\n",
       "      <th>ring-type</th>\n",
       "      <th>spore-print-color</th>\n",
       "      <th>population</th>\n",
       "      <th>habitat</th>\n",
       "    </tr>\n",
       "  </thead>\n",
       "  <tbody>\n",
       "    <tr>\n",
       "      <th>0</th>\n",
       "      <td>p</td>\n",
       "      <td>x</td>\n",
       "      <td>s</td>\n",
       "      <td>n</td>\n",
       "      <td>t</td>\n",
       "      <td>p</td>\n",
       "      <td>f</td>\n",
       "      <td>c</td>\n",
       "      <td>n</td>\n",
       "      <td>k</td>\n",
       "      <td>...</td>\n",
       "      <td>s</td>\n",
       "      <td>w</td>\n",
       "      <td>w</td>\n",
       "      <td>p</td>\n",
       "      <td>w</td>\n",
       "      <td>o</td>\n",
       "      <td>p</td>\n",
       "      <td>k</td>\n",
       "      <td>s</td>\n",
       "      <td>u</td>\n",
       "    </tr>\n",
       "    <tr>\n",
       "      <th>1</th>\n",
       "      <td>e</td>\n",
       "      <td>x</td>\n",
       "      <td>s</td>\n",
       "      <td>y</td>\n",
       "      <td>t</td>\n",
       "      <td>a</td>\n",
       "      <td>f</td>\n",
       "      <td>c</td>\n",
       "      <td>b</td>\n",
       "      <td>k</td>\n",
       "      <td>...</td>\n",
       "      <td>s</td>\n",
       "      <td>w</td>\n",
       "      <td>w</td>\n",
       "      <td>p</td>\n",
       "      <td>w</td>\n",
       "      <td>o</td>\n",
       "      <td>p</td>\n",
       "      <td>n</td>\n",
       "      <td>n</td>\n",
       "      <td>g</td>\n",
       "    </tr>\n",
       "    <tr>\n",
       "      <th>2</th>\n",
       "      <td>e</td>\n",
       "      <td>b</td>\n",
       "      <td>s</td>\n",
       "      <td>w</td>\n",
       "      <td>t</td>\n",
       "      <td>l</td>\n",
       "      <td>f</td>\n",
       "      <td>c</td>\n",
       "      <td>b</td>\n",
       "      <td>n</td>\n",
       "      <td>...</td>\n",
       "      <td>s</td>\n",
       "      <td>w</td>\n",
       "      <td>w</td>\n",
       "      <td>p</td>\n",
       "      <td>w</td>\n",
       "      <td>o</td>\n",
       "      <td>p</td>\n",
       "      <td>n</td>\n",
       "      <td>n</td>\n",
       "      <td>m</td>\n",
       "    </tr>\n",
       "    <tr>\n",
       "      <th>3</th>\n",
       "      <td>p</td>\n",
       "      <td>x</td>\n",
       "      <td>y</td>\n",
       "      <td>w</td>\n",
       "      <td>t</td>\n",
       "      <td>p</td>\n",
       "      <td>f</td>\n",
       "      <td>c</td>\n",
       "      <td>n</td>\n",
       "      <td>n</td>\n",
       "      <td>...</td>\n",
       "      <td>s</td>\n",
       "      <td>w</td>\n",
       "      <td>w</td>\n",
       "      <td>p</td>\n",
       "      <td>w</td>\n",
       "      <td>o</td>\n",
       "      <td>p</td>\n",
       "      <td>k</td>\n",
       "      <td>s</td>\n",
       "      <td>u</td>\n",
       "    </tr>\n",
       "    <tr>\n",
       "      <th>4</th>\n",
       "      <td>e</td>\n",
       "      <td>x</td>\n",
       "      <td>s</td>\n",
       "      <td>g</td>\n",
       "      <td>f</td>\n",
       "      <td>n</td>\n",
       "      <td>f</td>\n",
       "      <td>w</td>\n",
       "      <td>b</td>\n",
       "      <td>k</td>\n",
       "      <td>...</td>\n",
       "      <td>s</td>\n",
       "      <td>w</td>\n",
       "      <td>w</td>\n",
       "      <td>p</td>\n",
       "      <td>w</td>\n",
       "      <td>o</td>\n",
       "      <td>e</td>\n",
       "      <td>n</td>\n",
       "      <td>a</td>\n",
       "      <td>g</td>\n",
       "    </tr>\n",
       "  </tbody>\n",
       "</table>\n",
       "<p>5 rows × 23 columns</p>\n",
       "</div>"
      ],
      "text/plain": [
       "  class cap-shape cap-surface cap-color bruises odor gill-attachment  \\\n",
       "0     p         x           s         n       t    p               f   \n",
       "1     e         x           s         y       t    a               f   \n",
       "2     e         b           s         w       t    l               f   \n",
       "3     p         x           y         w       t    p               f   \n",
       "4     e         x           s         g       f    n               f   \n",
       "\n",
       "  gill-spacing gill-size gill-color  ... stalk-surface-below-ring  \\\n",
       "0            c         n          k  ...                        s   \n",
       "1            c         b          k  ...                        s   \n",
       "2            c         b          n  ...                        s   \n",
       "3            c         n          n  ...                        s   \n",
       "4            w         b          k  ...                        s   \n",
       "\n",
       "  stalk-color-above-ring stalk-color-below-ring veil-type veil-color  \\\n",
       "0                      w                      w         p          w   \n",
       "1                      w                      w         p          w   \n",
       "2                      w                      w         p          w   \n",
       "3                      w                      w         p          w   \n",
       "4                      w                      w         p          w   \n",
       "\n",
       "  ring-number ring-type spore-print-color population habitat  \n",
       "0           o         p                 k          s       u  \n",
       "1           o         p                 n          n       g  \n",
       "2           o         p                 n          n       m  \n",
       "3           o         p                 k          s       u  \n",
       "4           o         e                 n          a       g  \n",
       "\n",
       "[5 rows x 23 columns]"
      ]
     },
     "execution_count": 3,
     "metadata": {},
     "output_type": "execute_result"
    }
   ],
   "source": [
    "mushroom = pd.DataFrame(pd.read_csv('./data/mushrooms.csv'))\n",
    "mushroom.head()"
   ]
  },
  {
   "cell_type": "markdown",
   "metadata": {},
   "source": [
    "널값확인"
   ]
  },
  {
   "cell_type": "code",
   "execution_count": 4,
   "metadata": {},
   "outputs": [
    {
     "data": {
      "text/plain": [
       "class                       0\n",
       "cap-shape                   0\n",
       "cap-surface                 0\n",
       "cap-color                   0\n",
       "bruises                     0\n",
       "odor                        0\n",
       "gill-attachment             0\n",
       "gill-spacing                0\n",
       "gill-size                   0\n",
       "gill-color                  0\n",
       "stalk-shape                 0\n",
       "stalk-root                  0\n",
       "stalk-surface-above-ring    0\n",
       "stalk-surface-below-ring    0\n",
       "stalk-color-above-ring      0\n",
       "stalk-color-below-ring      0\n",
       "veil-type                   0\n",
       "veil-color                  0\n",
       "ring-number                 0\n",
       "ring-type                   0\n",
       "spore-print-color           0\n",
       "population                  0\n",
       "habitat                     0\n",
       "dtype: int64"
      ]
     },
     "execution_count": 4,
     "metadata": {},
     "output_type": "execute_result"
    }
   ],
   "source": [
    "mushroom.isnull().sum()"
   ]
  },
  {
   "cell_type": "code",
   "execution_count": 5,
   "metadata": {},
   "outputs": [
    {
     "data": {
      "image/png": "[encoded data removed]",
      "text/plain": [
       "<Figure size 576x576 with 1 Axes>"
      ]
     },
     "metadata": {},
     "output_type": "display_data"
    }
   ],
   "source": [
    "po_ed_num = mushroom['class'].value_counts()\n",
    "\n",
    "plt.figure(figsize=(8,8))\n",
    "\n",
    "labels = 'Poison', 'Edible'\n",
    "sizes = [po_ed_num[1], po_ed_num[0]]\n",
    "colors = ['lightcoral', 'yellowgreen']\n",
    "explode = (0.1, 0)  # explode 1st slice\n",
    "\n",
    "# Plot\n",
    "plt.pie(sizes, explode=explode, labels=labels, colors=colors,\n",
    "autopct='%1.1f%%', shadow=True, startangle=140)\n",
    "\n",
    "plt.title('독버섯과 식용버섯의 비율')\n",
    "\n",
    "plt.axis('equal')\n",
    "plt.show()"
   ]
  },
  {
   "cell_type": "markdown",
   "metadata": {},
   "source": [
    "식용과 독버섯은 거의 반반이다."
   ]
  },
  {
   "cell_type": "code",
   "execution_count": 6,
   "metadata": {},
   "outputs": [
    {
     "name": "stdout",
     "output_type": "stream",
     "text": [
      "버섯 주름이 어떻게 붙어 있는가? ( f: free, a: attached )\n",
      "f    7914\n",
      "a     210\n",
      "Name: gill-attachment, dtype: int64\n",
      "\n",
      "버섯 주름이 얼마나 떨어져 있는가? ( c: close, w: crowded )\n",
      "c    6812\n",
      "w    1312\n",
      "Name: gill-spacing, dtype: int64\n",
      "\n",
      "각 버섯 주름의 너비가 어떤가? ( b: broad, n: narrow )\n",
      "b    5612\n",
      "n    2512\n",
      "Name: gill-size, dtype: int64\n",
      "\n",
      "각 버섯 주름의 색상이 어떤가? \n",
      "( black=k, brown=n, buff=b, chocolate=h, gray=g, green=r, orange=o, pink=p, purple=u, red=e, white=w, yellow=y )\n",
      "\n",
      "b    1728\n",
      "p    1492\n",
      "w    1202\n",
      "n    1048\n",
      "g     752\n",
      "h     732\n",
      "u     492\n",
      "k     408\n",
      "e      96\n",
      "y      86\n",
      "o      64\n",
      "r      24\n",
      "Name: gill-color, dtype: int64\n"
     ]
    }
   ],
   "source": [
    "print(\"버섯 주름이 어떻게 붙어 있는가? ( f: free, a: attached )\")\n",
    "print(mushroom['gill-attachment'].value_counts())\n",
    "print(\"\\n버섯 주름이 얼마나 떨어져 있는가? ( c: close, w: crowded )\")\n",
    "print(mushroom['gill-spacing'].value_counts())\n",
    "print(\"\\n각 버섯 주름의 너비가 어떤가? ( b: broad, n: narrow )\")\n",
    "print(mushroom['gill-size'].value_counts())\n",
    "print(\"\\n각 버섯 주름의 색상이 어떤가? \\n( black=k, brown=n, buff=b, chocolate=h, gray=g, green=r, orange=o, pink=p, purple=u, red=e, white=w, yellow=y )\\n\")\n",
    "print(mushroom['gill-color'].value_counts())"
   ]
  },
  {
   "cell_type": "markdown",
   "metadata": {},
   "source": [
    "그래프로 시각화를 해보자"
   ]
  },
  {
   "cell_type": "code",
   "execution_count": 7,
   "metadata": {
    "scrolled": false
   },
   "outputs": [
    {
     "data": {
      "text/plain": [
       "Text(0.5, 1.0, '\\n주름 간격별 독버섯 여부\\n')"
      ]
     },
     "execution_count": 7,
     "metadata": {},
     "output_type": "execute_result"
    },
    {
     "data": {
      "image/png": "[encoded data removed]",
      "text/plain": [
       "<Figure size 720x2880 with 4 Axes>"
      ]
     },
     "metadata": {
      "needs_background": "light"
     },
     "output_type": "display_data"
    }
   ],
   "source": [
    "fig = plt.figure(figsize=(10, 40))\n",
    "ax1 = fig.add_subplot(411)\n",
    "ax2 = fig.add_subplot(412)\n",
    "ax3 = fig.add_subplot(413)\n",
    "ax4 = fig.add_subplot(414)\n",
    "\n",
    "\n",
    "size = sns.countplot(x='gill-size', hue='class', data=mushroom, palette='Set3', ax=ax1)\n",
    "size.set_title(\"\\n주름 크기별 독버섯 여부\\n\", fontsize=15)\n",
    "\n",
    "atta = sns.countplot(x='gill-attachment', hue='class', data=mushroom, palette='Set3', ax=ax2)\n",
    "atta.set_title(\"\\n주름 접착 정도에 따른 독버섯 여부\\n\", fontsize=15)\n",
    "\n",
    "color = sns.countplot(x='gill-color', hue='class', data=mushroom, palette='Set3', ax=ax3)\n",
    "color.set_title(\"\\n주름 색깔별 독버섯 여부\\n\", fontsize=15)\n",
    "\n",
    "space = sns.countplot(x='gill-spacing', hue='class', data=mushroom, palette='Set3', ax=ax4)\n",
    "space.set_title(\"\\n주름 간격별 독버섯 여부\\n\", fontsize=15)\n"
   ]
  },
  {
   "cell_type": "markdown",
   "metadata": {},
   "source": [
    "주름 색깔별 독버섯 여부\n",
    "\n",
    "- 검은 버섯은 먹으면 그냥 간다고 봐도 무방하다. 갈색과 하얀색은 식용버섯일 확률이 높다. 그리고 반전으로 보라색 주름의 경우 대체적으로 식용버섯이다!\n",
    "\n",
    "주름 너비별(크기) 독버섯 여부\n",
    "\n",
    "- 주름의 너비가 넓으면 거의 식용이고, 좁으면 높은 확률로 독버섯이다!\n",
    "\n",
    "주름 접착 정도의 여부\n",
    "\n",
    "- 기둥에 주름이 붙어있으면 거의 식용버섯이다\n",
    "\n",
    "주름 간격별 독버섯 여부\n",
    "\n",
    "- 간격이 좁고 촘촘할 경우 식용버섯일 확률이 높다."
   ]
  },
  {
   "cell_type": "markdown",
   "metadata": {},
   "source": [
    "숫자화"
   ]
  },
  {
   "cell_type": "code",
   "execution_count": 8,
   "metadata": {},
   "outputs": [],
   "source": [
    "del mushroom['veil-type']\n",
    "del mushroom['stalk-root']"
   ]
  },
  {
   "cell_type": "code",
   "execution_count": 9,
   "metadata": {},
   "outputs": [],
   "source": [
    "class_mapping = {\"p\":0, \"e\":1}\n",
    "mushroom['class'] = mushroom['class'].map(class_mapping)\n",
    "cap_shape = {\"b\":0, \"c\":1, \"x\":2, \"f\":3, \"k\":4, \"s\":5  }\n",
    "mushroom['cap-shape'] = mushroom['cap-shape'].map(cap_shape)\n",
    "cap_surface = {\"f\":0, \"g\":1, \"y\":2, \"s\":3}\n",
    "mushroom['cap-surface'] = mushroom['cap-surface'].map(cap_surface)\n",
    "cap_color = {\"n\":0, \"b\":1, \"c\":2, \"g\":3, \"r\":4, \"p\":5, \"u\":6, \"e\":7, \"w\":8, \"y\":9}\n",
    "mushroom['cap-color'] = mushroom['cap-color'].map(cap_color)\n",
    "bruises = {\"t\":0, \"f\":1}\n",
    "mushroom['bruises'] = mushroom['bruises'].map(bruises)\n",
    "odor = {\"a\":0, \"l\":1, \"c\":2, \"y\":3, \"f\":4, \"m\":5, \"n\":6, \"p\":7, \"s\":8}\n",
    "mushroom['odor'] = mushroom['odor'].map(odor)\n",
    "stalk_shape = {\"t\":0, \"e\":1}\n",
    "mushroom['stalk-shape'] = mushroom['stalk-shape'].map(stalk_shape)\n",
    "stalk_surface_above_ring = {\"f\":0, \"y\":1, \"k\":2, \"s\":3}\n",
    "mushroom['stalk-surface-above-ring'] = mushroom['stalk-surface-above-ring'].map(stalk_surface_above_ring)\n",
    "stalk_surface_below_ring = {\"f\":0, \"y\":1, \"k\":2, \"s\":3}\n",
    "mushroom['stalk-surface-below-ring'] = mushroom['stalk-surface-below-ring'].map(stalk_surface_below_ring)\n",
    "stalk_color_above_ring = {\"n\":0, \"b\":1, \"c\":2, \"g\":3, \"o\":4, \"p\":5, \"e\":6, \"w\":7, \"y\":8}\n",
    "mushroom['stalk-color-above-ring'] = mushroom['stalk-color-above-ring'].map(stalk_color_above_ring)\n",
    "stalk_color_below_ring = {\"n\":0, \"b\":1, \"c\":2, \"g\":3, \"o\":4, \"p\":5, \"e\":6, \"w\":7, \"y\":8}\n",
    "mushroom['stalk-color-below-ring'] = mushroom['stalk-color-below-ring'].map(stalk_color_below_ring)\n",
    "\n",
    "gattach_mapping = {\"a\": 0 , \"d\":1, \"f\":2, \"n\":3}\n",
    "gspacing_mapping = {\"c\": 0 , \"w\":1, \"d\":2}\n",
    "gsize_mapping = {\"b\": 0 , \"n\":1} \n",
    "gcolor_mapping = {\"k\": 0 , \"n\":1, \"b\":2, \"h\":3, \"g\":4, \"r\":5, \"o\":6, \"p\":7, \"u\":8, \"e\":9, \"w\":10, \"y\":11} \n",
    "\n",
    "mushroom['gill-attachment'] = mushroom['gill-attachment'].map(gattach_mapping)\n",
    "mushroom['gill-spacing'] = mushroom['gill-spacing'].map(gspacing_mapping)\n",
    "mushroom['gill-size'] = mushroom['gill-size'].map(gsize_mapping)\n",
    "mushroom['gill-color'] = mushroom['gill-color'].map(gcolor_mapping)\n",
    "\n",
    "mushroom['veil-color'].replace({'w':0,'n':1, 'o':2,'y':3}, inplace = True)\n",
    "mushroom['ring-number'].replace({'o':0, 't':1, 'n':0}, inplace = True)\n",
    "mushroom['ring-type'].replace({'p':0,'e':1, 'l':0, 'f':2, 'n':3}, inplace = True)\n",
    "mushroom['spore-print-color'].replace({'w':0,'n':1, 'k':2,'h':3, 'r':4,'y':5,'u':6,'o':7,'b':8}, inplace = True)\n",
    "mushroom['population'].replace({'v':0,'y':1, 's':2,'n':3, 'a':4,'c':5}, inplace = True)\n",
    "mushroom['habitat'].replace({'d':0,'g':1, 'p':2,'l':3, 'u':4,'m':5,'w':6}, inplace = True)"
   ]
  },
  {
   "cell_type": "code",
   "execution_count": 10,
   "metadata": {},
   "outputs": [],
   "source": [
    "# for i in mushroom.columns:\n",
    "#     print(mushroom[i].value_counts())"
   ]
  },
  {
   "cell_type": "markdown",
   "metadata": {},
   "source": [
    "차원축소"
   ]
  },
  {
   "cell_type": "code",
   "execution_count": 34,
   "metadata": {},
   "outputs": [],
   "source": [
    "mushroom_x = mushroom.iloc[:,1:].values\n",
    "mushroom_y = mushroom[['class']].values"
   ]
  },
  {
   "cell_type": "code",
   "execution_count": 35,
   "metadata": {},
   "outputs": [
    {
     "data": {
      "text/plain": [
       "10"
      ]
     },
     "execution_count": 35,
     "metadata": {},
     "output_type": "execute_result"
    }
   ],
   "source": [
    "from sklearn import decomposition\n",
    "from sklearn import datasets\n",
    "\n",
    "model = decomposition.PCA(n_components=0.95)\n",
    "model.fit(mushroom_x)\n",
    "\n",
    "mushroom_pca_input = model.transform(mushroom_x)\n",
    "model.explained_variance_ratio_\n",
    "\n",
    "np.argmax(np.cumsum(model.explained_variance_ratio_) >= 0.95 ) + 1"
   ]
  },
  {
   "cell_type": "code",
   "execution_count": 36,
   "metadata": {},
   "outputs": [],
   "source": [
    "#mushroom_x = mushroom_pca_input"
   ]
  },
  {
   "cell_type": "markdown",
   "metadata": {},
   "source": [
    "## 머신러닝"
   ]
  },
  {
   "cell_type": "code",
   "execution_count": 37,
   "metadata": {},
   "outputs": [],
   "source": [
    "from sklearn.model_selection import train_test_split\n",
    "from sklearn.model_selection import cross_val_score\n",
    "from sklearn.model_selection import KFold\n",
    "from sklearn.model_selection import cross_val_predict\n",
    "from sklearn.model_selection import GridSearchCV\n",
    "from sklearn.tree import DecisionTreeClassifier\n",
    "from sklearn.ensemble import RandomForestClassifier\n",
    "from sklearn.linear_model import LogisticRegression\n",
    "from sklearn.metrics import accuracy_score\n",
    "from sklearn.svm import SVC\n",
    "from sklearn import ensemble\n",
    "\n",
    "import warnings\n",
    "from sklearn.exceptions import DataConversionWarning\n",
    "warnings.filterwarnings(action='ignore', category=DataConversionWarning)\n",
    "warnings.simplefilter(action='ignore', category=FutureWarning)\n",
    "#warnings.simplefilter(action='ignore', category='Logging before flag parsing goes to stderr')"
   ]
  },
  {
   "cell_type": "markdown",
   "metadata": {},
   "source": [
    "데이터 나누기"
   ]
  },
  {
   "cell_type": "code",
   "execution_count": 38,
   "metadata": {},
   "outputs": [],
   "source": [
    "x_train, x_test, y_train, y_test = train_test_split(mushroom_x, mushroom_y, test_size=0.2)"
   ]
  },
  {
   "cell_type": "markdown",
   "metadata": {},
   "source": [
    "디시젼트리"
   ]
  },
  {
   "cell_type": "code",
   "execution_count": 16,
   "metadata": {},
   "outputs": [
    {
     "name": "stdout",
     "output_type": "stream",
     "text": [
      "0.9778461538461538\n"
     ]
    }
   ],
   "source": [
    "tree = DecisionTreeClassifier()\n",
    "tree.fit(x_train, y_train)\n",
    "\n",
    "y_pred = tree.predict(x_test)\n",
    "\n",
    "print(accuracy_score(y_test, y_pred))"
   ]
  },
  {
   "cell_type": "markdown",
   "metadata": {},
   "source": [
    "랜덤포레스트"
   ]
  },
  {
   "cell_type": "code",
   "execution_count": 17,
   "metadata": {},
   "outputs": [
    {
     "name": "stdout",
     "output_type": "stream",
     "text": [
      "0.9981538461538462\n"
     ]
    }
   ],
   "source": [
    "classifier = RandomForestClassifier(n_estimators=50, criterion='entropy')\n",
    "\n",
    "classifier.fit(x_train, y_train)\n",
    "y_pred = classifier.predict(x_test)\n",
    "\n",
    "print(accuracy_score(y_test, y_pred))"
   ]
  },
  {
   "cell_type": "markdown",
   "metadata": {},
   "source": [
    "그래디언트 부스팅"
   ]
  },
  {
   "cell_type": "code",
   "execution_count": 18,
   "metadata": {},
   "outputs": [
    {
     "name": "stdout",
     "output_type": "stream",
     "text": [
      "0.9101538461538462\n"
     ]
    }
   ],
   "source": [
    "from sklearn.ensemble import GradientBoostingClassifier\n",
    "\n",
    "gbc = GradientBoostingClassifier(random_state=0, learning_rate= 0.01)\n",
    "\n",
    "gbc.fit(x_train, y_train)\n",
    "\n",
    "print(gbc.score(x_test, y_test))"
   ]
  },
  {
   "cell_type": "markdown",
   "metadata": {},
   "source": [
    "로지스틱 리그레션"
   ]
  },
  {
   "cell_type": "code",
   "execution_count": 19,
   "metadata": {},
   "outputs": [
    {
     "name": "stdout",
     "output_type": "stream",
     "text": [
      "0.8510769230769231\n"
     ]
    }
   ],
   "source": [
    "logistic = LogisticRegression()\n",
    "logistic.fit(x_train, y_train)\n",
    "\n",
    "y_pred = logistic.predict(x_test)\n",
    "\n",
    "print(accuracy_score(y_test, y_pred))"
   ]
  },
  {
   "cell_type": "markdown",
   "metadata": {},
   "source": [
    "## 딥러닝"
   ]
  },
  {
   "cell_type": "code",
   "execution_count": 58,
   "metadata": {},
   "outputs": [],
   "source": [
    "lr = 1e-2\n",
    "epochs = 1001"
   ]
  },
  {
   "cell_type": "code",
   "execution_count": 47,
   "metadata": {},
   "outputs": [],
   "source": [
    "inode = 20\n",
    "h1node = 16\n",
    "h2node = 32\n",
    "onode = 1"
   ]
  },
  {
   "cell_type": "code",
   "execution_count": 48,
   "metadata": {},
   "outputs": [],
   "source": [
    "X = tf.placeholder(tf.float32, [None, inode])\n",
    "T = tf.placeholder(tf.float32, [None, onode])"
   ]
  },
  {
   "cell_type": "code",
   "execution_count": 54,
   "metadata": {},
   "outputs": [],
   "source": [
    "W2 = tf.get_variable(\"W24\", shape = [inode, h1node], initializer = tf.contrib.layers.xavier_initializer())\n",
    "b2 = tf.Variable(tf.random_normal([h1node]))\n",
    "Z2 = tf.matmul(X, W2) + b2\n",
    "A2 = tf.sigmoid(Z2)\n",
    "\n",
    "W3 = tf.get_variable(\"W34\", shape = [h1node, h2node], initializer = tf.contrib.layers.xavier_initializer())\n",
    "b3 = tf.Variable(tf.random_normal([h2node]))\n",
    "Z3 = tf.matmul(A2, W3)+ b3\n",
    "A3 = tf.sigmoid(Z3)\n",
    "\n",
    "W4 = tf.get_variable(\"W44\", shape = [h2node, onode], initializer = tf.contrib.layers.xavier_initializer())\n",
    "b4 = tf.Variable(tf.random_normal([onode]))\n",
    "Z4 = tf.matmul(A3, W4) + b4\n",
    "A4 = tf.sigmoid(Z4)"
   ]
  },
  {
   "cell_type": "code",
   "execution_count": 55,
   "metadata": {},
   "outputs": [],
   "source": [
    "loss = -tf.reduce_mean(T * tf.log(A4) + (1-T) * tf.log(1-A4))\n",
    "train = tf.train.AdamOptimizer(lr).minimize(loss)"
   ]
  },
  {
   "cell_type": "code",
   "execution_count": 56,
   "metadata": {},
   "outputs": [],
   "source": [
    "predicted = tf.cast(A4 > 0.5, dtype = tf.float32)\n",
    "accuracy = tf.reduce_mean(tf.cast(tf.equal(predicted, T), dtype=tf.float32))"
   ]
  },
  {
   "cell_type": "code",
   "execution_count": 59,
   "metadata": {},
   "outputs": [
    {
     "name": "stdout",
     "output_type": "stream",
     "text": [
      "step =  0 , loss =  0.77191556 , test loss =  0.47876924\n",
      "step =  100 , loss =  0.09025658 , test loss =  0.9796923\n",
      "step =  200 , loss =  0.004687096 , test loss =  1.0\n",
      "step =  300 , loss =  0.0015582986 , test loss =  1.0\n",
      "step =  400 , loss =  0.00083511305 , test loss =  1.0\n",
      "step =  500 , loss =  0.00053160393 , test loss =  1.0\n",
      "step =  600 , loss =  0.0003718044 , test loss =  1.0\n",
      "step =  700 , loss =  0.00027618522 , test loss =  1.0\n",
      "step =  800 , loss =  0.00021397123 , test loss =  1.0\n",
      "step =  900 , loss =  0.00017100056 , test loss =  1.0\n",
      "step =  1000 , loss =  0.00013994909 , test loss =  1.0\n",
      "\n",
      "Accuracy =  1.0\n"
     ]
    }
   ],
   "source": [
    "with tf.Session() as sess:\n",
    "    \n",
    "    sess.run(tf.global_variables_initializer())\n",
    "    \n",
    "    for step in range(epochs):\n",
    "        \n",
    "        loss_val, _ = sess.run([loss, train], feed_dict = {X: x_train, T:y_train})\n",
    "    \n",
    "        if step % 100 == 0:\n",
    "            acc = sess.run(accuracy, feed_dict={X:x_test,T:y_test})\n",
    "            print('step = ', step, \", loss = \", loss_val, \", test loss = \", acc)\n",
    "            \n",
    "            \n",
    "    acc = sess.run(accuracy, feed_dict={X:x_test,T:y_test})\n",
    "    print(\"\\nAccuracy = \", acc)"
   ]
  },
  {
   "cell_type": "code",
   "execution_count": null,
   "metadata": {},
   "outputs": [],
   "source": []
  }
 ],
 "metadata": {
  "kernelspec": {
   "display_name": "Python 3",
   "language": "python",
   "name": "python3"
  },
  "language_info": {
   "codemirror_mode": {
    "name": "ipython",
    "version": 3
   },
   "file_extension": ".py",
   "mimetype": "text/x-python",
   "name": "python",
   "nbconvert_exporter": "python",
   "pygments_lexer": "ipython3",
   "version": "3.6.8"
  }
 },
 "nbformat": 4,
 "nbformat_minor": 2
}
